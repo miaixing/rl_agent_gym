{
  "nbformat": 4,
  "nbformat_minor": 0,
  "metadata": {
    "colab": {
      "provenance": [],
      "gpuType": "T4"
    },
    "kernelspec": {
      "name": "python3",
      "display_name": "Python 3"
    },
    "language_info": {
      "name": "python"
    },
    "accelerator": "GPU"
  },
  "cells": [
    {
      "cell_type": "code",
      "execution_count": 1,
      "metadata": {
        "colab": {
          "base_uri": "https://localhost:8080/"
        },
        "id": "c5wzj9g1KeAj",
        "outputId": "b82e6431-32cc-4f7a-aa6a-9bcc636d047c"
      },
      "outputs": [
        {
          "output_type": "stream",
          "name": "stdout",
          "text": [
            "Requirement already satisfied: ale-py in /usr/local/lib/python3.11/dist-packages (0.8.1)\n",
            "Requirement already satisfied: autorom in /usr/local/lib/python3.11/dist-packages (0.6.1)\n",
            "Requirement already satisfied: numpy==1.23.5 in /usr/local/lib/python3.11/dist-packages (1.23.5)\n",
            "Requirement already satisfied: gym[atari] in /usr/local/lib/python3.11/dist-packages (0.26.2)\n",
            "Requirement already satisfied: cloudpickle>=1.2.0 in /usr/local/lib/python3.11/dist-packages (from gym[atari]) (3.1.1)\n",
            "Requirement already satisfied: gym_notices>=0.0.4 in /usr/local/lib/python3.11/dist-packages (from gym[atari]) (0.0.8)\n",
            "Requirement already satisfied: importlib-resources in /usr/local/lib/python3.11/dist-packages (from ale-py) (6.5.2)\n",
            "Requirement already satisfied: click in /usr/local/lib/python3.11/dist-packages (from autorom) (8.2.1)\n",
            "Requirement already satisfied: requests in /usr/local/lib/python3.11/dist-packages (from autorom) (2.32.3)\n",
            "Requirement already satisfied: charset-normalizer<4,>=2 in /usr/local/lib/python3.11/dist-packages (from requests->autorom) (3.4.2)\n",
            "Requirement already satisfied: idna<4,>=2.5 in /usr/local/lib/python3.11/dist-packages (from requests->autorom) (3.10)\n",
            "Requirement already satisfied: urllib3<3,>=1.21.1 in /usr/local/lib/python3.11/dist-packages (from requests->autorom) (2.4.0)\n",
            "Requirement already satisfied: certifi>=2017.4.17 in /usr/local/lib/python3.11/dist-packages (from requests->autorom) (2025.6.15)\n",
            "AutoROM will download the Atari 2600 ROMs.\n",
            "They will be installed to:\n",
            "\t/usr/local/lib/python3.11/dist-packages/AutoROM/roms\n",
            "\n",
            "Existing ROMs will be overwritten.\n"
          ]
        }
      ],
      "source": [
        "# 安装依赖（首次运行时执行一次）\n",
        "!pip install gym[atari] ale-py autorom numpy==1.23.5\n",
        "!AutoROM --accept-license"
      ]
    },
    {
      "cell_type": "code",
      "source": [
        "import gym\n",
        "import numpy as np\n",
        "import random\n",
        "import torch\n",
        "import torch.nn as nn\n",
        "import torch.optim as optim\n",
        "from collections import deque\n",
        "import cv2\n",
        "from tqdm import trange\n",
        "\n",
        "\n",
        "# 图像预处理（转换为灰度，缩放）\n",
        "def preprocess(obs):\n",
        "    obs = cv2.cvtColor(obs, cv2.COLOR_RGB2GRAY)\n",
        "    obs = cv2.resize(obs, (84, 84))\n",
        "    return obs.astype(np.float32) / 255.0\n",
        "\n",
        "# 帧堆叠\n",
        "def stack_frames(frames, state, is_new=False):\n",
        "    if is_new:\n",
        "        frames = deque([state] * 4, maxlen=4)\n",
        "    else:\n",
        "        frames.append(state)\n",
        "    return np.stack(frames, axis=0), frames\n",
        "\n",
        "# 经验回放\n",
        "class ReplayBuffer:\n",
        "    def __init__(self, capacity):\n",
        "        self.buffer = deque(maxlen=capacity)\n",
        "\n",
        "    def push(self, s, a, r, s_, done):\n",
        "        self.buffer.append((s, a, r, s_, done))\n",
        "\n",
        "    def sample(self, batch_size):\n",
        "        samples = random.sample(self.buffer, batch_size)\n",
        "        s, a, r, s_, d = zip(*samples)\n",
        "        return (np.array(s), np.array(a), np.array(r, dtype=np.float32),\n",
        "                np.array(s_), np.array(d, dtype=np.uint8))\n",
        "\n",
        "    def __len__(self):\n",
        "        return len(self.buffer)\n",
        "\n",
        "\n",
        "class DQN(nn.Module):\n",
        "    def __init__(self, action_dim):\n",
        "        super().__init__()\n",
        "        self.net = nn.Sequential(\n",
        "            nn.Conv2d(4, 32, kernel_size=8, stride=4), nn.ReLU(),\n",
        "            nn.Conv2d(32, 64, kernel_size=4, stride=2), nn.ReLU(),\n",
        "            nn.Conv2d(64, 64, kernel_size=3, stride=1), nn.ReLU(),\n",
        "            nn.Flatten(),\n",
        "            nn.Linear(3136, 512), nn.ReLU(),\n",
        "            nn.Linear(512, action_dim)\n",
        "        )\n",
        "\n",
        "    def forward(self, x):\n",
        "      if not isinstance(x, torch.Tensor):\n",
        "          x = torch.tensor(x, dtype=torch.float32)\n",
        "      return self.net(x.to(device))\n",
        "\n",
        "\n",
        "\n",
        "# 设置参数\n",
        "env = gym.make(\"Adventure-v4\", render_mode=None)\n",
        "action_dim = env.action_space.n\n",
        "\n",
        "device = torch.device(\"cuda\" if torch.cuda.is_available() else \"cpu\")\n",
        "policy_net = DQN(action_dim).to(device)\n",
        "target_net = DQN(action_dim).to(device)\n",
        "target_net.load_state_dict(policy_net.state_dict())\n",
        "\n",
        "optimizer = optim.Adam(policy_net.parameters(), lr=1e-4)\n",
        "replay_buffer = ReplayBuffer(100_000)\n",
        "\n",
        "epsilon_start = 1.0\n",
        "epsilon_final = 0.1\n",
        "epsilon_decay = 30000\n",
        "batch_size = 32\n",
        "gamma = 0.99\n",
        "sync_freq = 1000\n",
        "frame_limit = 500_000\n",
        "\n",
        "# 线性衰减epsilon\n",
        "def epsilon_by_frame(frame_idx):\n",
        "    return epsilon_final + (epsilon_start - epsilon_final) * np.exp(-1. * frame_idx / epsilon_decay)\n",
        "\n",
        "# 主训练循环\n",
        "state = preprocess(env.reset()[0])\n",
        "state_stack, frames = stack_frames(None, state, is_new=True)\n",
        "\n",
        "all_rewards = []\n",
        "episode_reward = 0\n",
        "frame_idx = 0\n",
        "\n",
        "for episode in trange(1000):\n",
        "    state = preprocess(env.reset()[0])\n",
        "    state_stack, frames = stack_frames(frames, state, is_new=True)\n",
        "    episode_reward = 0\n",
        "\n",
        "    for _ in range(10000):\n",
        "        epsilon = epsilon_by_frame(frame_idx)\n",
        "        frame_idx += 1\n",
        "\n",
        "        if random.random() < epsilon:\n",
        "            action = env.action_space.sample()\n",
        "        else:\n",
        "            with torch.no_grad():\n",
        "                q_vals = policy_net(np.expand_dims(state_stack, axis=0))\n",
        "                action = q_vals.argmax().item()\n",
        "\n",
        "        next_state, reward, done, _, _ = env.step(action)\n",
        "        next_state = preprocess(next_state)\n",
        "        next_stack, frames = stack_frames(frames, next_state, is_new=False)\n",
        "\n",
        "        replay_buffer.push(state_stack, action, reward, next_stack, done)\n",
        "        state_stack = next_stack\n",
        "        episode_reward += reward\n",
        "\n",
        "        # 训练网络\n",
        "        if len(replay_buffer) > 10_000:\n",
        "            s, a, r, s_, d = replay_buffer.sample(batch_size)\n",
        "            s = torch.FloatTensor(s).to(device)\n",
        "            a = torch.LongTensor(a).to(device)\n",
        "            r = torch.FloatTensor(r).to(device)\n",
        "            s_ = torch.FloatTensor(s_).to(device)\n",
        "            d = torch.FloatTensor(d).to(device)\n",
        "\n",
        "            q_values = policy_net(s)\n",
        "            next_q_values = target_net(s_)\n",
        "\n",
        "            q_value = q_values.gather(1, a.unsqueeze(1)).squeeze(1)\n",
        "            next_q_value = next_q_values.max(1)[0]\n",
        "            expected_q = r + gamma * next_q_value * (1 - d)\n",
        "\n",
        "            loss = nn.MSELoss()(q_value, expected_q.detach())\n",
        "            optimizer.zero_grad()\n",
        "            loss.backward()\n",
        "            optimizer.step()\n",
        "\n",
        "        if frame_idx % sync_freq == 0:\n",
        "            target_net.load_state_dict(policy_net.state_dict())\n",
        "\n",
        "        if done:\n",
        "            break\n",
        "\n",
        "    all_rewards.append(episode_reward)\n",
        "    print(f\"Episode {episode}: Reward = {episode_reward}\")\n",
        "\n",
        "torch.save(policy_net.state_dict(), \"dqn_adventure.pth\")\n",
        "print(\"✅ 模型已保存\")\n"
      ],
      "metadata": {
        "colab": {
          "base_uri": "https://localhost:8080/"
        },
        "id": "iB0mGF8HKeso",
        "outputId": "25b3ba92-c76f-4bb1-ef21-3bf6329bb96e"
      },
      "execution_count": null,
      "outputs": [
        {
          "output_type": "stream",
          "name": "stderr",
          "text": [
            "  0%|          | 1/1000 [00:06<1:41:13,  6.08s/it]"
          ]
        },
        {
          "output_type": "stream",
          "name": "stdout",
          "text": [
            "Episode 0: Reward = 0.0\n"
          ]
        },
        {
          "output_type": "stream",
          "name": "stderr",
          "text": [
            "\r  0%|          | 2/1000 [00:26<4:03:27, 14.64s/it]"
          ]
        },
        {
          "output_type": "stream",
          "name": "stdout",
          "text": [
            "Episode 1: Reward = 0.0\n"
          ]
        },
        {
          "output_type": "stream",
          "name": "stderr",
          "text": [
            "\r  0%|          | 3/1000 [00:31<2:47:37, 10.09s/it]"
          ]
        },
        {
          "output_type": "stream",
          "name": "stdout",
          "text": [
            "Episode 2: Reward = 0.0\n"
          ]
        },
        {
          "output_type": "stream",
          "name": "stderr",
          "text": [
            "\r  0%|          | 4/1000 [00:47<3:24:56, 12.35s/it]"
          ]
        },
        {
          "output_type": "stream",
          "name": "stdout",
          "text": [
            "Episode 3: Reward = 0.0\n"
          ]
        },
        {
          "output_type": "stream",
          "name": "stderr",
          "text": [
            "\r  0%|          | 5/1000 [00:59<3:25:44, 12.41s/it]"
          ]
        },
        {
          "output_type": "stream",
          "name": "stdout",
          "text": [
            "Episode 4: Reward = 0.0\n"
          ]
        },
        {
          "output_type": "stream",
          "name": "stderr",
          "text": [
            "\r  1%|          | 6/1000 [01:16<3:50:05, 13.89s/it]"
          ]
        },
        {
          "output_type": "stream",
          "name": "stdout",
          "text": [
            "Episode 5: Reward = 0.0\n"
          ]
        },
        {
          "output_type": "stream",
          "name": "stderr",
          "text": [
            "\r  1%|          | 7/1000 [02:13<7:44:18, 28.05s/it]"
          ]
        },
        {
          "output_type": "stream",
          "name": "stdout",
          "text": [
            "Episode 6: Reward = 0.0\n"
          ]
        },
        {
          "output_type": "stream",
          "name": "stderr",
          "text": [
            "\r  1%|          | 8/1000 [02:30<6:44:09, 24.44s/it]"
          ]
        },
        {
          "output_type": "stream",
          "name": "stdout",
          "text": [
            "Episode 7: Reward = 0.0\n"
          ]
        },
        {
          "output_type": "stream",
          "name": "stderr",
          "text": [
            "\r  1%|          | 9/1000 [02:56<6:51:40, 24.92s/it]"
          ]
        },
        {
          "output_type": "stream",
          "name": "stdout",
          "text": [
            "Episode 8: Reward = 0.0\n"
          ]
        },
        {
          "output_type": "stream",
          "name": "stderr",
          "text": [
            "\r  1%|          | 10/1000 [04:06<10:43:58, 39.03s/it]"
          ]
        },
        {
          "output_type": "stream",
          "name": "stdout",
          "text": [
            "Episode 9: Reward = 0.0\n"
          ]
        },
        {
          "output_type": "stream",
          "name": "stderr",
          "text": [
            "\r  1%|          | 11/1000 [05:18<13:27:14, 48.97s/it]"
          ]
        },
        {
          "output_type": "stream",
          "name": "stdout",
          "text": [
            "Episode 10: Reward = 0.0\n"
          ]
        },
        {
          "output_type": "stream",
          "name": "stderr",
          "text": [
            "\r  1%|          | 12/1000 [05:34<10:40:57, 38.92s/it]"
          ]
        },
        {
          "output_type": "stream",
          "name": "stdout",
          "text": [
            "Episode 11: Reward = 0.0\n"
          ]
        },
        {
          "output_type": "stream",
          "name": "stderr",
          "text": [
            "\r  1%|▏         | 13/1000 [06:47<13:28:46, 49.17s/it]"
          ]
        },
        {
          "output_type": "stream",
          "name": "stdout",
          "text": [
            "Episode 12: Reward = 0.0\n"
          ]
        },
        {
          "output_type": "stream",
          "name": "stderr",
          "text": [
            "\r  1%|▏         | 14/1000 [07:14<11:37:45, 42.46s/it]"
          ]
        },
        {
          "output_type": "stream",
          "name": "stdout",
          "text": [
            "Episode 13: Reward = 0.0\n"
          ]
        },
        {
          "output_type": "stream",
          "name": "stderr",
          "text": [
            "\r  2%|▏         | 15/1000 [07:35<9:54:20, 36.20s/it] "
          ]
        },
        {
          "output_type": "stream",
          "name": "stdout",
          "text": [
            "Episode 14: Reward = 0.0\n"
          ]
        },
        {
          "output_type": "stream",
          "name": "stderr",
          "text": [
            "\r  2%|▏         | 16/1000 [08:49<12:58:52, 47.49s/it]"
          ]
        },
        {
          "output_type": "stream",
          "name": "stdout",
          "text": [
            "Episode 15: Reward = 0.0\n"
          ]
        },
        {
          "output_type": "stream",
          "name": "stderr",
          "text": [
            "\r  2%|▏         | 17/1000 [10:02<15:04:58, 55.24s/it]"
          ]
        },
        {
          "output_type": "stream",
          "name": "stdout",
          "text": [
            "Episode 16: Reward = 0.0\n"
          ]
        },
        {
          "output_type": "stream",
          "name": "stderr",
          "text": [
            "\r  2%|▏         | 18/1000 [10:35<13:12:05, 48.40s/it]"
          ]
        },
        {
          "output_type": "stream",
          "name": "stdout",
          "text": [
            "Episode 17: Reward = 0.0\n"
          ]
        },
        {
          "output_type": "stream",
          "name": "stderr",
          "text": [
            "\r  2%|▏         | 19/1000 [10:47<10:13:49, 37.54s/it]"
          ]
        },
        {
          "output_type": "stream",
          "name": "stdout",
          "text": [
            "Episode 18: Reward = 0.0\n"
          ]
        }
      ]
    }
  ]
}