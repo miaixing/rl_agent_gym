{
  "nbformat": 4,
  "nbformat_minor": 0,
  "metadata": {
    "colab": {
      "provenance": [],
      "gpuType": "T4"
    },
    "kernelspec": {
      "name": "python3",
      "display_name": "Python 3"
    },
    "language_info": {
      "name": "python"
    },
    "accelerator": "GPU"
  },
  "cells": [
    {
      "cell_type": "code",
      "source": [
        "!pip install gym[atari] ale-py autorom --quiet\n",
        "!AutoROM --accept-license --quiet\n"
      ],
      "metadata": {
        "colab": {
          "base_uri": "https://localhost:8080/"
        },
        "id": "zzYWf1uWZdxH",
        "outputId": "e819e889-e733-4ad7-c586-cda4631adb47"
      },
      "execution_count": 1,
      "outputs": [
        {
          "output_type": "stream",
          "name": "stdout",
          "text": [
            "AutoROM will download the Atari 2600 ROMs.\n",
            "They will be installed to:\n",
            "\t/usr/local/lib/python3.11/dist-packages/AutoROM/roms\n",
            "\n",
            "Existing ROMs will be overwritten.\n"
          ]
        }
      ]
    },
    {
      "cell_type": "code",
      "source": [
        "import gym\n",
        "import numpy as np\n",
        "import random\n",
        "import cv2\n",
        "import torch\n",
        "import torch.nn as nn\n",
        "import torch.optim as optim\n",
        "from collections import deque\n",
        "from tqdm import trange\n",
        "\n",
        "def preprocess(obs):\n",
        "    obs = cv2.cvtColor(obs, cv2.COLOR_RGB2GRAY)\n",
        "    obs = cv2.resize(obs, (84, 84))\n",
        "    return obs.astype(np.float32) / 255.0\n",
        "\n",
        "def stack_frames(frames, new_frame, is_new=False):\n",
        "    if is_new:\n",
        "        frames = deque([new_frame] * 4, maxlen=4)\n",
        "    else:\n",
        "        frames.append(new_frame)\n",
        "    return np.stack(frames, axis=0), frames\n",
        "\n",
        "class ReplayBuffer:\n",
        "    def __init__(self, capacity):\n",
        "        self.buffer = deque(maxlen=capacity)\n",
        "\n",
        "    def push(self, s, a, r, s_, d):\n",
        "        self.buffer.append((s, a, r, s_, d))\n",
        "\n",
        "    def sample(self, batch_size):\n",
        "        samples = random.sample(self.buffer, batch_size)\n",
        "        s, a, r, s_, d = zip(*samples)\n",
        "        return (np.array(s), np.array(a), np.array(r, dtype=np.float32),\n",
        "                np.array(s_), np.array(d, dtype=np.uint8))\n",
        "\n",
        "    def __len__(self):\n",
        "        return len(self.buffer)\n",
        "\n",
        "class DQN(nn.Module):\n",
        "    def __init__(self, action_dim):\n",
        "        super().__init__()\n",
        "        self.net = nn.Sequential(\n",
        "            nn.Conv2d(4, 32, kernel_size=8, stride=4), nn.ReLU(),\n",
        "            nn.Conv2d(32, 64, kernel_size=4, stride=2), nn.ReLU(),\n",
        "            nn.Conv2d(64, 64, kernel_size=3, stride=1), nn.ReLU(),\n",
        "            nn.Flatten(),\n",
        "            nn.Linear(3136, 512), nn.ReLU(),\n",
        "            nn.Linear(512, action_dim)\n",
        "        )\n",
        "\n",
        "    def forward(self, x):\n",
        "        if not isinstance(x, torch.Tensor):\n",
        "            x = torch.tensor(x, dtype=torch.float32)\n",
        "        return self.net(x.to(device))\n",
        "\n",
        "env = gym.make(\"Atlantis-v4\", render_mode=None)\n",
        "action_dim = env.action_space.n\n",
        "\n",
        "device = torch.device(\"cuda\" if torch.cuda.is_available() else \"cpu\")\n",
        "policy_net = DQN(action_dim).to(device)\n",
        "target_net = DQN(action_dim).to(device)\n",
        "target_net.load_state_dict(policy_net.state_dict())\n",
        "\n",
        "optimizer = optim.Adam(policy_net.parameters(), lr=1e-4)\n",
        "replay_buffer = ReplayBuffer(100_000)\n",
        "\n",
        "epsilon_start = 1.0\n",
        "epsilon_final = 0.1\n",
        "epsilon_decay = 30000\n",
        "batch_size = 32\n",
        "gamma = 0.99\n",
        "sync_freq = 1000\n",
        "frame_limit = 500_000\n",
        "\n",
        "def epsilon_by_frame(frame_idx):\n",
        "    return epsilon_final + (epsilon_start - epsilon_final) * np.exp(-1. * frame_idx / epsilon_decay)\n",
        "\n",
        "frame_idx = 0\n",
        "all_rewards = []\n",
        "\n",
        "for episode in trange(1000):\n",
        "    obs, _ = env.reset()\n",
        "    state = preprocess(obs)\n",
        "    state_stack, frames = stack_frames(None, state, is_new=True)\n",
        "    episode_reward = 0\n",
        "\n",
        "    for _ in range(10000):\n",
        "        epsilon = epsilon_by_frame(frame_idx)\n",
        "        frame_idx += 1\n",
        "\n",
        "        if random.random() < epsilon:\n",
        "            action = env.action_space.sample()\n",
        "        else:\n",
        "            with torch.no_grad():\n",
        "                q_vals = policy_net(np.expand_dims(state_stack, axis=0))\n",
        "                action = q_vals.argmax().item()\n",
        "\n",
        "        next_obs, reward, terminated, truncated, _ = env.step(action)\n",
        "        done = terminated or truncated\n",
        "        next_state = preprocess(next_obs)\n",
        "        next_stack, frames = stack_frames(frames, next_state, is_new=False)\n",
        "\n",
        "        replay_buffer.push(state_stack, action, reward, next_stack, done)\n",
        "        state_stack = next_stack\n",
        "        episode_reward += reward\n",
        "\n",
        "        if len(replay_buffer) > 10000:\n",
        "            s, a, r, s_, d = replay_buffer.sample(batch_size)\n",
        "            s = torch.tensor(s, dtype=torch.float32).to(device)\n",
        "            a = torch.tensor(a, dtype=torch.long).to(device)\n",
        "            r = torch.tensor(r, dtype=torch.float32).to(device)\n",
        "            s_ = torch.tensor(s_, dtype=torch.float32).to(device)\n",
        "            d = torch.tensor(d, dtype=torch.float32).to(device)\n",
        "\n",
        "            q_values = policy_net(s)\n",
        "            next_q_values = target_net(s_)\n",
        "\n",
        "            q_value = q_values.gather(1, a.unsqueeze(1)).squeeze(1)\n",
        "            next_q_value = next_q_values.max(1)[0]\n",
        "            expected_q = r + gamma * next_q_value * (1 - d)\n",
        "\n",
        "            loss = nn.MSELoss()(q_value, expected_q.detach())\n",
        "            optimizer.zero_grad()\n",
        "            loss.backward()\n",
        "            optimizer.step()\n",
        "\n",
        "        if frame_idx % sync_freq == 0:\n",
        "            target_net.load_state_dict(policy_net.state_dict())\n",
        "\n",
        "        if done:\n",
        "            break\n",
        "\n",
        "    all_rewards.append(episode_reward)\n",
        "    print(f\"Episode {episode}: Reward = {episode_reward}\")\n",
        "\n",
        "torch.save(policy_net.state_dict(), \"dqn_atlantis.pth\")\n",
        "print(\"✅ 模型已保存为 dqn_atlantis.pth\")"
      ],
      "metadata": {
        "colab": {
          "base_uri": "https://localhost:8080/"
        },
        "id": "5kbSqJ6cZmqx",
        "outputId": "cfa97af7-0144-4b7a-ebbd-5a773284836a"
      },
      "execution_count": null,
      "outputs": [
        {
          "output_type": "stream",
          "name": "stderr",
          "text": [
            "  0%|          | 1/1000 [00:01<21:55,  1.32s/it]"
          ]
        },
        {
          "output_type": "stream",
          "name": "stdout",
          "text": [
            "Episode 0: Reward = 17500.0\n"
          ]
        },
        {
          "output_type": "stream",
          "name": "stderr",
          "text": [
            "\r  0%|          | 2/1000 [00:03<26:06,  1.57s/it]"
          ]
        },
        {
          "output_type": "stream",
          "name": "stdout",
          "text": [
            "Episode 1: Reward = 34600.0\n"
          ]
        },
        {
          "output_type": "stream",
          "name": "stderr",
          "text": [
            "\r  0%|          | 3/1000 [00:04<25:52,  1.56s/it]"
          ]
        },
        {
          "output_type": "stream",
          "name": "stdout",
          "text": [
            "Episode 2: Reward = 18900.0\n"
          ]
        },
        {
          "output_type": "stream",
          "name": "stderr",
          "text": [
            "\r  0%|          | 4/1000 [00:06<29:17,  1.76s/it]"
          ]
        },
        {
          "output_type": "stream",
          "name": "stdout",
          "text": [
            "Episode 3: Reward = 30900.0\n"
          ]
        },
        {
          "output_type": "stream",
          "name": "stderr",
          "text": [
            "\r  0%|          | 5/1000 [00:13<56:45,  3.42s/it]"
          ]
        },
        {
          "output_type": "stream",
          "name": "stdout",
          "text": [
            "Episode 4: Reward = 12900.0\n"
          ]
        },
        {
          "output_type": "stream",
          "name": "stderr",
          "text": [
            "\r  1%|          | 6/1000 [00:28<2:05:23,  7.57s/it]"
          ]
        },
        {
          "output_type": "stream",
          "name": "stdout",
          "text": [
            "Episode 5: Reward = 17700.0\n"
          ]
        },
        {
          "output_type": "stream",
          "name": "stderr",
          "text": [
            "\r  1%|          | 7/1000 [00:54<3:41:46, 13.40s/it]"
          ]
        },
        {
          "output_type": "stream",
          "name": "stdout",
          "text": [
            "Episode 6: Reward = 42200.0\n"
          ]
        },
        {
          "output_type": "stream",
          "name": "stderr",
          "text": [
            "\r  1%|          | 8/1000 [01:09<3:52:40, 14.07s/it]"
          ]
        },
        {
          "output_type": "stream",
          "name": "stdout",
          "text": [
            "Episode 7: Reward = 16700.0\n"
          ]
        },
        {
          "output_type": "stream",
          "name": "stderr",
          "text": [
            "\r  1%|          | 9/1000 [01:19<3:32:35, 12.87s/it]"
          ]
        },
        {
          "output_type": "stream",
          "name": "stdout",
          "text": [
            "Episode 8: Reward = 11700.0\n"
          ]
        },
        {
          "output_type": "stream",
          "name": "stderr",
          "text": [
            "\r  1%|          | 10/1000 [01:28<3:10:25, 11.54s/it]"
          ]
        },
        {
          "output_type": "stream",
          "name": "stdout",
          "text": [
            "Episode 9: Reward = 10600.0\n"
          ]
        },
        {
          "output_type": "stream",
          "name": "stderr",
          "text": [
            "\r  1%|          | 11/1000 [01:41<3:17:53, 12.01s/it]"
          ]
        },
        {
          "output_type": "stream",
          "name": "stdout",
          "text": [
            "Episode 10: Reward = 14800.0\n"
          ]
        },
        {
          "output_type": "stream",
          "name": "stderr",
          "text": [
            "\r  1%|          | 12/1000 [01:51<3:06:20, 11.32s/it]"
          ]
        },
        {
          "output_type": "stream",
          "name": "stdout",
          "text": [
            "Episode 11: Reward = 7600.0\n"
          ]
        },
        {
          "output_type": "stream",
          "name": "stderr",
          "text": [
            "\r  1%|▏         | 13/1000 [01:59<2:51:58, 10.45s/it]"
          ]
        },
        {
          "output_type": "stream",
          "name": "stdout",
          "text": [
            "Episode 12: Reward = 12400.0\n"
          ]
        },
        {
          "output_type": "stream",
          "name": "stderr",
          "text": [
            "\r  1%|▏         | 14/1000 [02:10<2:52:07, 10.47s/it]"
          ]
        },
        {
          "output_type": "stream",
          "name": "stdout",
          "text": [
            "Episode 13: Reward = 14300.0\n"
          ]
        },
        {
          "output_type": "stream",
          "name": "stderr",
          "text": [
            "\r  2%|▏         | 15/1000 [02:23<3:04:02, 11.21s/it]"
          ]
        },
        {
          "output_type": "stream",
          "name": "stdout",
          "text": [
            "Episode 14: Reward = 17800.0\n"
          ]
        }
      ]
    }
  ]
}